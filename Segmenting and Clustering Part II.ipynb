{
    "cells": [
        {
            "cell_type": "markdown",
            "metadata": {
                "collapsed": true
            },
            "source": "### Segmenting and Clustering (Toronto) Part II\n##### by Francisco J. O'Meany"
        },
        {
            "cell_type": "code",
            "execution_count": 1,
            "metadata": {},
            "outputs": [],
            "source": "import pandas as pd\nfrom project_lib import Project\n"
        },
        {
            "cell_type": "code",
            "execution_count": 2,
            "metadata": {},
            "outputs": [],
            "source": "# get the project to get the file saved on the previous notebook\nproject = Project(None, \"b54d8622-d5b9-40f8-83ec-c6ee80f7d05f\", \"p-b7d8e41e53341a4e89ef2c22ad70876d93cf3e63\")\n\n# Fetch the neighborhoods file\nmy_file = project.get_file(\"toronto_cluster.csv\")"
        },
        {
            "cell_type": "code",
            "execution_count": 3,
            "metadata": {},
            "outputs": [
                {
                    "data": {
                        "text/html": "<div>\n<style scoped>\n    .dataframe tbody tr th:only-of-type {\n        vertical-align: middle;\n    }\n\n    .dataframe tbody tr th {\n        vertical-align: top;\n    }\n\n    .dataframe thead th {\n        text-align: right;\n    }\n</style>\n<table border=\"1\" class=\"dataframe\">\n  <thead>\n    <tr style=\"text-align: right;\">\n      <th></th>\n      <th>PostalCode</th>\n      <th>Borough</th>\n      <th>Neighborhood</th>\n    </tr>\n  </thead>\n  <tbody>\n    <tr>\n      <th>0</th>\n      <td>M1B</td>\n      <td>Scarborough</td>\n      <td>Rouge, Malvern</td>\n    </tr>\n    <tr>\n      <th>1</th>\n      <td>M1C</td>\n      <td>Scarborough</td>\n      <td>Highland Creek, Rouge Hill, Port Union</td>\n    </tr>\n    <tr>\n      <th>2</th>\n      <td>M1E</td>\n      <td>Scarborough</td>\n      <td>Guildwood, Morningside, West Hill</td>\n    </tr>\n    <tr>\n      <th>3</th>\n      <td>M1G</td>\n      <td>Scarborough</td>\n      <td>Woburn</td>\n    </tr>\n    <tr>\n      <th>4</th>\n      <td>M1H</td>\n      <td>Scarborough</td>\n      <td>Cedarbrae</td>\n    </tr>\n  </tbody>\n</table>\n</div>",
                        "text/plain": "  PostalCode      Borough                            Neighborhood\n0        M1B  Scarborough                          Rouge, Malvern\n1        M1C  Scarborough  Highland Creek, Rouge Hill, Port Union\n2        M1E  Scarborough       Guildwood, Morningside, West Hill\n3        M1G  Scarborough                                  Woburn\n4        M1H  Scarborough                               Cedarbrae"
                    },
                    "execution_count": 3,
                    "metadata": {},
                    "output_type": "execute_result"
                }
            ],
            "source": "# read csv file\nt_cluster = pd.read_csv('toronto_cluster.csv')\n#t_cluster = t_cluster[['PostalCode', 'Borough', 'Neighborhood']]\nt_cluster.head()"
        },
        {
            "cell_type": "code",
            "execution_count": 4,
            "metadata": {},
            "outputs": [
                {
                    "name": "stdout",
                    "output_type": "stream",
                    "text": "--2020-01-08 04:33:38--  http://cocl.us/Geospatial_data\nResolving cocl.us (cocl.us)... 169.48.113.194, 158.85.108.83, 158.85.108.86\nConnecting to cocl.us (cocl.us)|169.48.113.194|:80... connected.\nHTTP request sent, awaiting response... 301 Moved Permanently\nLocation: https://cocl.us/Geospatial_data [following]\n--2020-01-08 04:33:38--  https://cocl.us/Geospatial_data\nConnecting to cocl.us (cocl.us)|169.48.113.194|:443... connected.\nHTTP request sent, awaiting response... 301 Moved Permanently\nLocation: https://ibm.box.com/shared/static/9afzr83pps4pwf2smjjcf1y5mvgb18rr.csv [following]\n--2020-01-08 04:33:39--  https://ibm.box.com/shared/static/9afzr83pps4pwf2smjjcf1y5mvgb18rr.csv\nResolving ibm.box.com (ibm.box.com)... 107.152.27.197, 107.152.26.197\nConnecting to ibm.box.com (ibm.box.com)|107.152.27.197|:443... connected.\nHTTP request sent, awaiting response... 301 Moved Permanently\nLocation: /public/static/9afzr83pps4pwf2smjjcf1y5mvgb18rr.csv [following]\n--2020-01-08 04:33:39--  https://ibm.box.com/public/static/9afzr83pps4pwf2smjjcf1y5mvgb18rr.csv\nReusing existing connection to ibm.box.com:443.\nHTTP request sent, awaiting response... 301 Moved Permanently\nLocation: https://ibm.ent.box.com/public/static/9afzr83pps4pwf2smjjcf1y5mvgb18rr.csv [following]\n--2020-01-08 04:33:39--  https://ibm.ent.box.com/public/static/9afzr83pps4pwf2smjjcf1y5mvgb18rr.csv\nResolving ibm.ent.box.com (ibm.ent.box.com)... 107.152.26.211, 107.152.27.211\nConnecting to ibm.ent.box.com (ibm.ent.box.com)|107.152.26.211|:443... connected.\nHTTP request sent, awaiting response... 302 Found\nLocation: https://public.boxcloud.com/d/1/b1!XQnJDSAtnDuBoxU7LzkVhtCfGGH-V2KqUs4o-5MYSF2BTuDxAgmVdzHS3Qg0fyeFS1mtT2ZIstdmgKe_6MUaCX-CutxMeM-qLCwyEiwil53soToQzaxuW_zO_0P_9ykOwIcM4zNfej9TxSgKvPo3peBE2-suapbi8tVJsUaf_Oe6zTY9xc50YQ3c3gmQM1FTwsNCiLt0nSsL_8LvW67YDm08yvTvi8SsVDlc5udQ8lhSXwraHjr8j8IpCPep7yhNoj7h7CkRHA-ZCjapJX8AW1KKUT-wKEccyVIIsvaDwWH98UeVJxf4Vx_kDyOkCpko2W7KvmNvC0yz_Gmq49vuGOX-9CpGjNtWmjP_8xXlYAqeMF4zBh4rz6Fev0WI0pVnbgSftNawxjFZ2zlP0RVbkjCtt5Pg0ElhuSwcDTfKCD5JCHAZi_ADmrD2RNfVf7fyCjAi2IQin-iGJdxzAjbJBwi_Vz3Gn9Z4thwdeaoQcUcKeOw6jQ0c-fLSbTcJC146yx5QoIbfmMKEoUpVxI_D-Lf_8F56lVRAPoRrPkX7zF-S9TYLv3af5LuJymS2Nz4dHY1QxvywWTARiMyQGpoFdhfS7P03X-X0QkaL46lfy9vUEylsJ9kdGqBXxRER8hnSefZfqGPVZFt5J7a849Ga-wL-S7BuVz2RrU7jySmfE4x9TXhLVr95MvjLh5cB4Kln15csGlPDGopt2uPj0qVWG4Y29THxI2PWZiYrhUJuX3sepZc95wZzr6S0jaYY80c5aJVIZVTICkPSCj-3XJ57TMzdKR6sVuYMhLzEDbnd_h7S6yEsROnbPKVdMfqxulwUeuRNRw-Fbzp_F7vHkALZVUtTGbtGoLRwllISPStzZdYXwdtF1cHQbT6hdiWQZWoYMKVe9kCqonwxWqNW8i1i4XeuH9ENx4OuXV97CcYMz2oU9G5TTZVSSz3hgtkTPHogjiCwFBN8uTZpBPCL0wjOPE_fO0BUMJgNE2ZJUAs_wY8VkCZ7XKWfY7hPacihgIUUqY8TPpz87vY6eWFaSlIxnStRVQl5Y0_BSpmzTtu-78UlD9LEK5qTWunfvK_qi5ocARA6IS13YOkdW24WHRp7qjX_pNvuhQBnYI-DoDeZhM69WcPTuU9uxJ2ZIcP2Ep__GXylzknpZ1aO6aCj0w8DxJput8TT_bBxBP5n2t-mKfOsz-1WUiyWHtQakCRyFoQ9nPv5D319PwRiPQ8V-xiphRFWggsoTiUhrssWwx_405__g9lzATQJkv4yev6FOdCkxIY3CmCFaJGEDVGJR4uD_Ee1Vqt8FRyQzLD0HL8yNhM6SU7IKn2kWVtMdiHqxhP9OnxTJ1XF8N9y3I3gGnDSlprkQX0YLd6yhwOJ8MOucopeAlqL3bpnJyFkPlJi/download [following]\n--2020-01-08 04:33:40--  https://public.boxcloud.com/d/1/b1!XQnJDSAtnDuBoxU7LzkVhtCfGGH-V2KqUs4o-5MYSF2BTuDxAgmVdzHS3Qg0fyeFS1mtT2ZIstdmgKe_6MUaCX-CutxMeM-qLCwyEiwil53soToQzaxuW_zO_0P_9ykOwIcM4zNfej9TxSgKvPo3peBE2-suapbi8tVJsUaf_Oe6zTY9xc50YQ3c3gmQM1FTwsNCiLt0nSsL_8LvW67YDm08yvTvi8SsVDlc5udQ8lhSXwraHjr8j8IpCPep7yhNoj7h7CkRHA-ZCjapJX8AW1KKUT-wKEccyVIIsvaDwWH98UeVJxf4Vx_kDyOkCpko2W7KvmNvC0yz_Gmq49vuGOX-9CpGjNtWmjP_8xXlYAqeMF4zBh4rz6Fev0WI0pVnbgSftNawxjFZ2zlP0RVbkjCtt5Pg0ElhuSwcDTfKCD5JCHAZi_ADmrD2RNfVf7fyCjAi2IQin-iGJdxzAjbJBwi_Vz3Gn9Z4thwdeaoQcUcKeOw6jQ0c-fLSbTcJC146yx5QoIbfmMKEoUpVxI_D-Lf_8F56lVRAPoRrPkX7zF-S9TYLv3af5LuJymS2Nz4dHY1QxvywWTARiMyQGpoFdhfS7P03X-X0QkaL46lfy9vUEylsJ9kdGqBXxRER8hnSefZfqGPVZFt5J7a849Ga-wL-S7BuVz2RrU7jySmfE4x9TXhLVr95MvjLh5cB4Kln15csGlPDGopt2uPj0qVWG4Y29THxI2PWZiYrhUJuX3sepZc95wZzr6S0jaYY80c5aJVIZVTICkPSCj-3XJ57TMzdKR6sVuYMhLzEDbnd_h7S6yEsROnbPKVdMfqxulwUeuRNRw-Fbzp_F7vHkALZVUtTGbtGoLRwllISPStzZdYXwdtF1cHQbT6hdiWQZWoYMKVe9kCqonwxWqNW8i1i4XeuH9ENx4OuXV97CcYMz2oU9G5TTZVSSz3hgtkTPHogjiCwFBN8uTZpBPCL0wjOPE_fO0BUMJgNE2ZJUAs_wY8VkCZ7XKWfY7hPacihgIUUqY8TPpz87vY6eWFaSlIxnStRVQl5Y0_BSpmzTtu-78UlD9LEK5qTWunfvK_qi5ocARA6IS13YOkdW24WHRp7qjX_pNvuhQBnYI-DoDeZhM69WcPTuU9uxJ2ZIcP2Ep__GXylzknpZ1aO6aCj0w8DxJput8TT_bBxBP5n2t-mKfOsz-1WUiyWHtQakCRyFoQ9nPv5D319PwRiPQ8V-xiphRFWggsoTiUhrssWwx_405__g9lzATQJkv4yev6FOdCkxIY3CmCFaJGEDVGJR4uD_Ee1Vqt8FRyQzLD0HL8yNhM6SU7IKn2kWVtMdiHqxhP9OnxTJ1XF8N9y3I3gGnDSlprkQX0YLd6yhwOJ8MOucopeAlqL3bpnJyFkPlJi/download\nResolving public.boxcloud.com (public.boxcloud.com)... 107.152.26.200\nConnecting to public.boxcloud.com (public.boxcloud.com)|107.152.26.200|:443... connected.\nHTTP request sent, awaiting response... 200 OK\nLength: 2891 (2.8K) [text/csv]\nSaving to: \u2018Geospatial_Coordinates.csv\u2019\n\n100%[======================================>] 2,891       --.-K/s   in 0s      \n\n2020-01-08 04:33:40 (293 MB/s) - \u2018Geospatial_Coordinates.csv\u2019 saved [2891/2891]\n\n"
                }
            ],
            "source": "# get the geo data file\n!wget -O Geospatial_Coordinates.csv http://cocl.us/Geospatial_data"
        },
        {
            "cell_type": "code",
            "execution_count": 5,
            "metadata": {},
            "outputs": [],
            "source": "# define dataframe columns\ncolumn_names = ['PostalCode', 'Borough', 'Neighborhood', 'Latitude', 'Longitude']\n\n# instantiate the dataframe\nneighborhoods = pd.DataFrame(columns=column_names)"
        },
        {
            "cell_type": "code",
            "execution_count": 6,
            "metadata": {},
            "outputs": [
                {
                    "data": {
                        "text/html": "<div>\n<style scoped>\n    .dataframe tbody tr th:only-of-type {\n        vertical-align: middle;\n    }\n\n    .dataframe tbody tr th {\n        vertical-align: top;\n    }\n\n    .dataframe thead th {\n        text-align: right;\n    }\n</style>\n<table border=\"1\" class=\"dataframe\">\n  <thead>\n    <tr style=\"text-align: right;\">\n      <th></th>\n      <th>PostalCode</th>\n      <th>Borough</th>\n      <th>Neighborhood</th>\n      <th>Latitude</th>\n      <th>Longitude</th>\n    </tr>\n  </thead>\n  <tbody>\n  </tbody>\n</table>\n</div>",
                        "text/plain": "Empty DataFrame\nColumns: [PostalCode, Borough, Neighborhood, Latitude, Longitude]\nIndex: []"
                    },
                    "execution_count": 6,
                    "metadata": {},
                    "output_type": "execute_result"
                }
            ],
            "source": "neighborhoods"
        },
        {
            "cell_type": "code",
            "execution_count": 7,
            "metadata": {},
            "outputs": [
                {
                    "data": {
                        "text/html": "<div>\n<style scoped>\n    .dataframe tbody tr th:only-of-type {\n        vertical-align: middle;\n    }\n\n    .dataframe tbody tr th {\n        vertical-align: top;\n    }\n\n    .dataframe thead th {\n        text-align: right;\n    }\n</style>\n<table border=\"1\" class=\"dataframe\">\n  <thead>\n    <tr style=\"text-align: right;\">\n      <th></th>\n      <th>Postal Code</th>\n      <th>Latitude</th>\n      <th>Longitude</th>\n    </tr>\n  </thead>\n  <tbody>\n    <tr>\n      <th>0</th>\n      <td>M1B</td>\n      <td>43.806686</td>\n      <td>-79.194353</td>\n    </tr>\n    <tr>\n      <th>1</th>\n      <td>M1C</td>\n      <td>43.784535</td>\n      <td>-79.160497</td>\n    </tr>\n    <tr>\n      <th>2</th>\n      <td>M1E</td>\n      <td>43.763573</td>\n      <td>-79.188711</td>\n    </tr>\n    <tr>\n      <th>3</th>\n      <td>M1G</td>\n      <td>43.770992</td>\n      <td>-79.216917</td>\n    </tr>\n    <tr>\n      <th>4</th>\n      <td>M1H</td>\n      <td>43.773136</td>\n      <td>-79.239476</td>\n    </tr>\n  </tbody>\n</table>\n</div>",
                        "text/plain": "  Postal Code   Latitude  Longitude\n0         M1B  43.806686 -79.194353\n1         M1C  43.784535 -79.160497\n2         M1E  43.763573 -79.188711\n3         M1G  43.770992 -79.216917\n4         M1H  43.773136 -79.239476"
                    },
                    "execution_count": 7,
                    "metadata": {},
                    "output_type": "execute_result"
                }
            ],
            "source": "df_geocode = pd.read_csv('Geospatial_Coordinates.csv')\ndf_geocode.head()"
        },
        {
            "cell_type": "code",
            "execution_count": 8,
            "metadata": {},
            "outputs": [],
            "source": "# fill the dataframe\nfor index, data in t_cluster.iterrows():\n    postal = data['PostalCode']\n    borough = data['Borough']\n    neighborhood = data['Neighborhood']\n    latlon = df_geocode[df_geocode['Postal Code'].str.contains(postal, regex=False)]\n    latlon = latlon.round(decimals=6)\n    latitude = list(latlon['Latitude'].astype(str))[0]\n    longitude = list(latlon['Longitude'].astype(str))[0]\n    \n    neighborhoods = neighborhoods.append({'PostalCode':postal,\n                                          'Borough':borough,\n                                          'Neighborhood':neighborhood,\n                                          'Latitude':latitude,\n                                          'Longitude':longitude}, ignore_index=True)\n"
        },
        {
            "cell_type": "code",
            "execution_count": 9,
            "metadata": {},
            "outputs": [
                {
                    "data": {
                        "text/html": "<div>\n<style scoped>\n    .dataframe tbody tr th:only-of-type {\n        vertical-align: middle;\n    }\n\n    .dataframe tbody tr th {\n        vertical-align: top;\n    }\n\n    .dataframe thead th {\n        text-align: right;\n    }\n</style>\n<table border=\"1\" class=\"dataframe\">\n  <thead>\n    <tr style=\"text-align: right;\">\n      <th></th>\n      <th>PostalCode</th>\n      <th>Borough</th>\n      <th>Neighborhood</th>\n      <th>Latitude</th>\n      <th>Longitude</th>\n    </tr>\n  </thead>\n  <tbody>\n    <tr>\n      <th>0</th>\n      <td>M1B</td>\n      <td>Scarborough</td>\n      <td>Rouge, Malvern</td>\n      <td>43.806686</td>\n      <td>-79.194353</td>\n    </tr>\n    <tr>\n      <th>1</th>\n      <td>M1C</td>\n      <td>Scarborough</td>\n      <td>Highland Creek, Rouge Hill, Port Union</td>\n      <td>43.784535</td>\n      <td>-79.160497</td>\n    </tr>\n    <tr>\n      <th>2</th>\n      <td>M1E</td>\n      <td>Scarborough</td>\n      <td>Guildwood, Morningside, West Hill</td>\n      <td>43.763573</td>\n      <td>-79.188712</td>\n    </tr>\n    <tr>\n      <th>3</th>\n      <td>M1G</td>\n      <td>Scarborough</td>\n      <td>Woburn</td>\n      <td>43.770992</td>\n      <td>-79.216917</td>\n    </tr>\n    <tr>\n      <th>4</th>\n      <td>M1H</td>\n      <td>Scarborough</td>\n      <td>Cedarbrae</td>\n      <td>43.773136</td>\n      <td>-79.239476</td>\n    </tr>\n  </tbody>\n</table>\n</div>",
                        "text/plain": "  PostalCode      Borough                            Neighborhood   Latitude  \\\n0        M1B  Scarborough                          Rouge, Malvern  43.806686   \n1        M1C  Scarborough  Highland Creek, Rouge Hill, Port Union  43.784535   \n2        M1E  Scarborough       Guildwood, Morningside, West Hill  43.763573   \n3        M1G  Scarborough                                  Woburn  43.770992   \n4        M1H  Scarborough                               Cedarbrae  43.773136   \n\n    Longitude  \n0  -79.194353  \n1  -79.160497  \n2  -79.188712  \n3  -79.216917  \n4  -79.239476  "
                    },
                    "execution_count": 9,
                    "metadata": {},
                    "output_type": "execute_result"
                }
            ],
            "source": "neighborhoods.head()"
        }
    ],
    "metadata": {
        "kernelspec": {
            "display_name": "Python 3.6",
            "language": "python",
            "name": "python3"
        },
        "language_info": {
            "codemirror_mode": {
                "name": "ipython",
                "version": 3
            },
            "file_extension": ".py",
            "mimetype": "text/x-python",
            "name": "python",
            "nbconvert_exporter": "python",
            "pygments_lexer": "ipython3",
            "version": "3.6.8"
        }
    },
    "nbformat": 4,
    "nbformat_minor": 1
}