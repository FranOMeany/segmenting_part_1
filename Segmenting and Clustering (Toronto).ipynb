{
    "cells": [
        {
            "cell_type": "markdown",
            "metadata": {
                "collapsed": true
            },
            "source": "# Segmenting and Clustering (Toronto) Part I\n### by Francisco J. O'Meany"
        },
        {
            "cell_type": "code",
            "execution_count": 241,
            "metadata": {},
            "outputs": [],
            "source": "from bs4 import BeautifulSoup\nimport pandas as pd"
        },
        {
            "cell_type": "markdown",
            "metadata": {},
            "source": "### 1.- Upload html file taken from wikipedia website"
        },
        {
            "cell_type": "code",
            "execution_count": 242,
            "metadata": {},
            "outputs": [
                {
                    "name": "stdout",
                    "output_type": "stream",
                    "text": "--2019-12-31 23:40:40--  https://francisco.omeany.net/toronto.html\nResolving francisco.omeany.net (francisco.omeany.net)... 192.254.157.172\nConnecting to francisco.omeany.net (francisco.omeany.net)|192.254.157.172|:443... connected.\nHTTP request sent, awaiting response... 200 OK\nLength: 41959 (41K) [text/html]\nSaving to: \u2018toronto.html\u2019\n\n100%[======================================>] 41,959      --.-K/s   in 0.1s    \n\n2019-12-31 23:40:40 (344 KB/s) - \u2018toronto.html\u2019 saved [41959/41959]\n\n"
                }
            ],
            "source": "!wget -O toronto.html https://francisco.omeany.net/toronto.html"
        },
        {
            "cell_type": "markdown",
            "metadata": {},
            "source": "### 2.- Read toronto.html file"
        },
        {
            "cell_type": "code",
            "execution_count": 243,
            "metadata": {},
            "outputs": [],
            "source": "# read html file taken from wikipedia\nwith open(\"toronto.html\") as html_file:\n    fileSrc = BeautifulSoup(html_file, 'html.parser')\n"
        },
        {
            "cell_type": "markdown",
            "metadata": {},
            "source": "### 3.- Parse the file and:\n###### (a) - Exclude 'Not assigned' Borough\n###### (b) - Remove tabs and carriage returns\n###### (c) - Assign borough to a not assigned neighborhoods"
        },
        {
            "cell_type": "code",
            "execution_count": 244,
            "metadata": {},
            "outputs": [],
            "source": "# define the dataframe columns\ntdata = []\ncolumn_names = ['PostalCode', 'Borough', 'Neighborhood']\ntdata.append(column_names)\n\n# Parse html file and build dataframe excluding 'Not assigned' Boroughs\nfor fLine in fileSrc.find_all('tr'):\n    children = fLine.findChildren(\"td\" , recursive=True)\n    if( children ):\n        childf = []\n        col = 0\n        appendRow = True\n        \n        for child in children:\n            # Exclude 'Not assigned' Boroughs\n            if( child.text == 'Not assigned' and col == 1 ):\n                appendRow = False\n            \n            # Remove tabs and carriage returns\n            childf.append(child.text.replace(\"\\t\", \"\").replace(\"\\r\", \"\").replace(\"\\n\", \"\"))\n            \n            # If a cell has a borough but a Not assigned neighborhood, \n            # then the neighborhood will be the same as the borough\n            if( col == 2 and childf[2] == 'Not assigned' ):\n                childf[2] = childf[1]\n            \n            col = col+1\n        \n        # Append row only if Borough is assigned\n        if( appendRow ):\n            tdata.append(childf)\n\n# Save dataframe\npd.DataFrame(tdata).to_csv('toronto_seg.csv', index=False, header=False)\n"
        },
        {
            "cell_type": "markdown",
            "metadata": {},
            "source": "### 4.- Read dataframe"
        },
        {
            "cell_type": "code",
            "execution_count": 245,
            "metadata": {},
            "outputs": [
                {
                    "data": {
                        "text/html": "<div>\n<style scoped>\n    .dataframe tbody tr th:only-of-type {\n        vertical-align: middle;\n    }\n\n    .dataframe tbody tr th {\n        vertical-align: top;\n    }\n\n    .dataframe thead th {\n        text-align: right;\n    }\n</style>\n<table border=\"1\" class=\"dataframe\">\n  <thead>\n    <tr style=\"text-align: right;\">\n      <th></th>\n      <th>PostalCode</th>\n      <th>Borough</th>\n      <th>Neighborhood</th>\n    </tr>\n  </thead>\n  <tbody>\n    <tr>\n      <th>0</th>\n      <td>M3A</td>\n      <td>North York</td>\n      <td>Parkwoods</td>\n    </tr>\n    <tr>\n      <th>1</th>\n      <td>M4A</td>\n      <td>North York</td>\n      <td>Victoria Village</td>\n    </tr>\n    <tr>\n      <th>2</th>\n      <td>M5A</td>\n      <td>Downtown Toronto</td>\n      <td>Harbourfront</td>\n    </tr>\n    <tr>\n      <th>3</th>\n      <td>M6A</td>\n      <td>North York</td>\n      <td>Lawrence Heights</td>\n    </tr>\n    <tr>\n      <th>4</th>\n      <td>M6A</td>\n      <td>North York</td>\n      <td>Lawrence Manor</td>\n    </tr>\n    <tr>\n      <th>5</th>\n      <td>M7A</td>\n      <td>Queen's Park</td>\n      <td>Queen's Park</td>\n    </tr>\n    <tr>\n      <th>6</th>\n      <td>M9A</td>\n      <td>Downtown Toronto</td>\n      <td>Queen's Park</td>\n    </tr>\n    <tr>\n      <th>7</th>\n      <td>M1B</td>\n      <td>Scarborough</td>\n      <td>Rouge</td>\n    </tr>\n    <tr>\n      <th>8</th>\n      <td>M1B</td>\n      <td>Scarborough</td>\n      <td>Malvern</td>\n    </tr>\n    <tr>\n      <th>9</th>\n      <td>M3B</td>\n      <td>North York</td>\n      <td>Don Mills North</td>\n    </tr>\n  </tbody>\n</table>\n</div>",
                        "text/plain": "  PostalCode           Borough      Neighborhood\n0        M3A        North York         Parkwoods\n1        M4A        North York  Victoria Village\n2        M5A  Downtown Toronto      Harbourfront\n3        M6A        North York  Lawrence Heights\n4        M6A        North York    Lawrence Manor\n5        M7A      Queen's Park      Queen's Park\n6        M9A  Downtown Toronto      Queen's Park\n7        M1B       Scarborough             Rouge\n8        M1B       Scarborough           Malvern\n9        M3B        North York   Don Mills North"
                    },
                    "execution_count": 245,
                    "metadata": {},
                    "output_type": "execute_result"
                }
            ],
            "source": "# Read dataframe\ntoronto_df = pd.read_csv('toronto_seg.csv')\ntoronto_df.head(10)"
        },
        {
            "cell_type": "markdown",
            "metadata": {},
            "source": "### 5.- Merge neighborhood rows with the same postal code"
        },
        {
            "cell_type": "code",
            "execution_count": 246,
            "metadata": {},
            "outputs": [
                {
                    "data": {
                        "text/html": "<div>\n<style scoped>\n    .dataframe tbody tr th:only-of-type {\n        vertical-align: middle;\n    }\n\n    .dataframe tbody tr th {\n        vertical-align: top;\n    }\n\n    .dataframe thead th {\n        text-align: right;\n    }\n</style>\n<table border=\"1\" class=\"dataframe\">\n  <thead>\n    <tr style=\"text-align: right;\">\n      <th></th>\n      <th>Borough</th>\n      <th>Neighborhood</th>\n    </tr>\n    <tr>\n      <th>PostalCode</th>\n      <th></th>\n      <th></th>\n    </tr>\n  </thead>\n  <tbody>\n    <tr>\n      <th>M1B</th>\n      <td>Scarborough</td>\n      <td>Rouge, Malvern</td>\n    </tr>\n    <tr>\n      <th>M1C</th>\n      <td>Scarborough</td>\n      <td>Highland Creek, Rouge Hill, Port Union</td>\n    </tr>\n    <tr>\n      <th>M1E</th>\n      <td>Scarborough</td>\n      <td>Guildwood, Morningside, West Hill</td>\n    </tr>\n    <tr>\n      <th>M1G</th>\n      <td>Scarborough</td>\n      <td>Woburn</td>\n    </tr>\n    <tr>\n      <th>M1H</th>\n      <td>Scarborough</td>\n      <td>Cedarbrae</td>\n    </tr>\n  </tbody>\n</table>\n</div>",
                        "text/plain": "                Borough                            Neighborhood\nPostalCode                                                     \nM1B         Scarborough                          Rouge, Malvern\nM1C         Scarborough  Highland Creek, Rouge Hill, Port Union\nM1E         Scarborough       Guildwood, Morningside, West Hill\nM1G         Scarborough                                  Woburn\nM1H         Scarborough                               Cedarbrae"
                    },
                    "execution_count": 246,
                    "metadata": {},
                    "output_type": "execute_result"
                }
            ],
            "source": "# Merge neighborhood rows with the same postal code\nt_df = toronto_df.groupby(['PostalCode']).agg({'Borough':'first','Neighborhood': lambda x : ', '.join(x)})\nt_df.to_csv('toronto_cluster.csv')\nt_df.head()"
        },
        {
            "cell_type": "markdown",
            "metadata": {},
            "source": "### 6.- Read the merged dataframe"
        },
        {
            "cell_type": "code",
            "execution_count": 247,
            "metadata": {
                "scrolled": true
            },
            "outputs": [
                {
                    "data": {
                        "text/html": "<div>\n<style scoped>\n    .dataframe tbody tr th:only-of-type {\n        vertical-align: middle;\n    }\n\n    .dataframe tbody tr th {\n        vertical-align: top;\n    }\n\n    .dataframe thead th {\n        text-align: right;\n    }\n</style>\n<table border=\"1\" class=\"dataframe\">\n  <thead>\n    <tr style=\"text-align: right;\">\n      <th></th>\n      <th>PostalCode</th>\n      <th>Borough</th>\n      <th>Neighborhood</th>\n    </tr>\n  </thead>\n  <tbody>\n    <tr>\n      <th>0</th>\n      <td>M1B</td>\n      <td>Scarborough</td>\n      <td>Rouge, Malvern</td>\n    </tr>\n    <tr>\n      <th>1</th>\n      <td>M1C</td>\n      <td>Scarborough</td>\n      <td>Highland Creek, Rouge Hill, Port Union</td>\n    </tr>\n    <tr>\n      <th>2</th>\n      <td>M1E</td>\n      <td>Scarborough</td>\n      <td>Guildwood, Morningside, West Hill</td>\n    </tr>\n    <tr>\n      <th>3</th>\n      <td>M1G</td>\n      <td>Scarborough</td>\n      <td>Woburn</td>\n    </tr>\n    <tr>\n      <th>4</th>\n      <td>M1H</td>\n      <td>Scarborough</td>\n      <td>Cedarbrae</td>\n    </tr>\n    <tr>\n      <th>5</th>\n      <td>M1J</td>\n      <td>Scarborough</td>\n      <td>Scarborough Village</td>\n    </tr>\n    <tr>\n      <th>6</th>\n      <td>M1K</td>\n      <td>Scarborough</td>\n      <td>East Birchmount Park, Ionview, Kennedy Park</td>\n    </tr>\n    <tr>\n      <th>7</th>\n      <td>M1L</td>\n      <td>Scarborough</td>\n      <td>Clairlea, Golden Mile, Oakridge</td>\n    </tr>\n    <tr>\n      <th>8</th>\n      <td>M1M</td>\n      <td>Scarborough</td>\n      <td>Cliffcrest, Cliffside, Scarborough Village West</td>\n    </tr>\n    <tr>\n      <th>9</th>\n      <td>M1N</td>\n      <td>Scarborough</td>\n      <td>Birch Cliff, Cliffside West</td>\n    </tr>\n  </tbody>\n</table>\n</div>",
                        "text/plain": "  PostalCode      Borough                                     Neighborhood\n0        M1B  Scarborough                                   Rouge, Malvern\n1        M1C  Scarborough           Highland Creek, Rouge Hill, Port Union\n2        M1E  Scarborough                Guildwood, Morningside, West Hill\n3        M1G  Scarborough                                           Woburn\n4        M1H  Scarborough                                        Cedarbrae\n5        M1J  Scarborough                              Scarborough Village\n6        M1K  Scarborough      East Birchmount Park, Ionview, Kennedy Park\n7        M1L  Scarborough                  Clairlea, Golden Mile, Oakridge\n8        M1M  Scarborough  Cliffcrest, Cliffside, Scarborough Village West\n9        M1N  Scarborough                      Birch Cliff, Cliffside West"
                    },
                    "execution_count": 247,
                    "metadata": {},
                    "output_type": "execute_result"
                }
            ],
            "source": "# Read the merged dataframe\nt_cluster = pd.read_csv('toronto_cluster.csv')\nt_cluster = t_cluster[['PostalCode', 'Borough', 'Neighborhood']]\nt_cluster.head(10)"
        },
        {
            "cell_type": "markdown",
            "metadata": {},
            "source": "### 7.- Print number of rows on dataframe"
        },
        {
            "cell_type": "code",
            "execution_count": 248,
            "metadata": {},
            "outputs": [
                {
                    "data": {
                        "text/plain": "(103, 3)"
                    },
                    "execution_count": 248,
                    "metadata": {},
                    "output_type": "execute_result"
                }
            ],
            "source": "# shape method to print the number of rows on dataframe\nt_cluster.shape"
        }
    ],
    "metadata": {
        "kernelspec": {
            "display_name": "Python 3.6",
            "language": "python",
            "name": "python3"
        },
        "language_info": {
            "codemirror_mode": {
                "name": "ipython",
                "version": 3
            },
            "file_extension": ".py",
            "mimetype": "text/x-python",
            "name": "python",
            "nbconvert_exporter": "python",
            "pygments_lexer": "ipython3",
            "version": "3.6.8"
        }
    },
    "nbformat": 4,
    "nbformat_minor": 1
}